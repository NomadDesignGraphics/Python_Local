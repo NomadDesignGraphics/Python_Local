{
  "nbformat": 4,
  "nbformat_minor": 0,
  "metadata": {
    "colab": {
      "name": "Ders004.ipynb",
      "provenance": []
    },
    "kernelspec": {
      "name": "python3",
      "display_name": "Python 3"
    }
  },
  "cells": [
    {
      "cell_type": "code",
      "metadata": {
        "colab": {
          "base_uri": "https://localhost:8080/"
        },
        "id": "D2XqXASLcX9k",
        "outputId": "810847b9-fc52-43c9-f3ca-45797ac10a1c"
      },
      "source": [
        "x = 0\n",
        "for i in range(5): #0-4  5 adım\n",
        "  for i in range(-1,-5,-1): #-1 - -4  4adım\n",
        "    x += 1\n",
        "  print(x)"
      ],
      "execution_count": 6,
      "outputs": [
        {
          "output_type": "stream",
          "text": [
            "4\n",
            "8\n",
            "12\n",
            "16\n",
            "20\n"
          ],
          "name": "stdout"
        }
      ]
    },
    {
      "cell_type": "code",
      "metadata": {
        "colab": {
          "base_uri": "https://localhost:8080/"
        },
        "id": "MwMBJ3g3d51G",
        "outputId": "d63c1a07-a2e4-4cee-f345-1b814028ddef"
      },
      "source": [
        "x = 0\n",
        "a=0\n",
        "b=-5\n",
        "if a > 0: #eğer a 0 dan büyükse\n",
        "  if b<0:\n",
        "    x=x+5\n",
        "  elif a>5: # değilse eğer a 5 ten büyükse\n",
        "    x=x+4\n",
        "  else:\n",
        "    x=x+3 # değilse\n",
        "else:\n",
        "  x=x+2\n",
        "print(x)"
      ],
      "execution_count": 7,
      "outputs": [
        {
          "output_type": "stream",
          "text": [
            "2\n"
          ],
          "name": "stdout"
        }
      ]
    },
    {
      "cell_type": "code",
      "metadata": {
        "colab": {
          "base_uri": "https://localhost:8080/"
        },
        "id": "F_Cq1K5wexgh",
        "outputId": "73e40143-f10c-4598-ba18-230baa534d2d"
      },
      "source": [
        "for num in range(-2,-5,-1): #-2 den başlayıp -5 dahil olmayacak şekilde -1 -1 artacak\n",
        "  print(num,end=\",\")"
      ],
      "execution_count": 9,
      "outputs": [
        {
          "output_type": "stream",
          "text": [
            "-2,-3,-4,"
          ],
          "name": "stdout"
        }
      ]
    },
    {
      "cell_type": "code",
      "metadata": {
        "colab": {
          "base_uri": "https://localhost:8080/"
        },
        "id": "IgbnzqVsfQem",
        "outputId": "87aa1c7d-7b09-4d4b-81ff-0b30e2a0e848"
      },
      "source": [
        "for num in range(10,14): # yazacağı şeyler 10/11/12/13 ama 14 yok\n",
        "  for i in range(2,num): #2 den yukardaki num'un başlangıcı olan 10 a kadar\n",
        "    if num % i == 1: # num un başlangıcı olan 10 dan başlayıp\n",
        "    # 2.for döngüsündeki \"i\" nin rakamlarıyla tek tek modu alıyor\n",
        "    # (mod alma kalanlı bölme kontrol mekanizmasıdır) \n",
        "    #eğer 1. fordaki rakamın 2. for daki rakama alınan mod'unun\n",
        "    # kalanı 1 ise yazdıracak\n",
        "      print(num,end=\",\")\n",
        "      break"
      ],
      "execution_count": 13,
      "outputs": [
        {
          "output_type": "stream",
          "text": [
            "10,11,12,13,"
          ],
          "name": "stdout"
        }
      ]
    },
    {
      "cell_type": "code",
      "metadata": {
        "colab": {
          "base_uri": "https://localhost:8080/"
        },
        "id": "S23N_5cqgppc",
        "outputId": "6bcca2ca-4461-4cc5-c670-07cb503be276"
      },
      "source": [
        "for l in \"john\":\n",
        "#\"john\" daki her bir harfi tek tek kontrol edecek\n",
        "  if l == \"o\":\n",
        "    #\"john\" daki o ya denk gelirse\n",
        "    continue\n",
        "    # \"o\" harfini umursamadan devam et\n",
        "  print(l,end=\",\")"
      ],
      "execution_count": 14,
      "outputs": [
        {
          "output_type": "stream",
          "text": [
            "j,h,n,"
          ],
          "name": "stdout"
        }
      ]
    }
  ]
}